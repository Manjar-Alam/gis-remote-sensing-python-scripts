{
 "cells": [
  {
   "cell_type": "code",
   "execution_count": 1,
   "id": "04eeb90b-13bb-48de-bb09-84c3401a2c0d",
   "metadata": {},
   "outputs": [
    {
     "name": "stdout",
     "output_type": "stream",
     "text": [
      "0    POINT (1 2)\n",
      "1    POINT (2 3)\n",
      "2    POINT (3 4)\n",
      "dtype: geometry\n"
     ]
    }
   ],
   "source": [
    "#Introduction to Geopandas\n",
    "#GeoSeries and GeoDataframe\n",
    "# Geoseries\n",
    "import geopandas as gpd\n",
    "from geopandas import GeoSeries, GeoDataFrame\n",
    "from shapely.geometry import Point\n",
    "\n",
    "places = GeoSeries([\n",
    "    Point(1, 2), # House\n",
    "    Point(2, 3), # School\n",
    "    Point(3, 4) # A park\n",
    "])\n",
    "\n",
    "print(places)"
   ]
  },
  {
   "cell_type": "code",
   "execution_count": 2,
   "id": "49417e51-9af9-40f7-9bbf-19b1bf3d445e",
   "metadata": {},
   "outputs": [
    {
     "data": {
      "text/html": [
       "<div>\n",
       "<style scoped>\n",
       "    .dataframe tbody tr th:only-of-type {\n",
       "        vertical-align: middle;\n",
       "    }\n",
       "\n",
       "    .dataframe tbody tr th {\n",
       "        vertical-align: top;\n",
       "    }\n",
       "\n",
       "    .dataframe thead th {\n",
       "        text-align: right;\n",
       "    }\n",
       "</style>\n",
       "<table border=\"1\" class=\"dataframe\">\n",
       "  <thead>\n",
       "    <tr style=\"text-align: right;\">\n",
       "      <th></th>\n",
       "      <th>name</th>\n",
       "      <th>type</th>\n",
       "      <th>geometry</th>\n",
       "    </tr>\n",
       "  </thead>\n",
       "  <tbody>\n",
       "    <tr>\n",
       "      <th>0</th>\n",
       "      <td>My House</td>\n",
       "      <td>House</td>\n",
       "      <td>POINT (1 2)</td>\n",
       "    </tr>\n",
       "    <tr>\n",
       "      <th>1</th>\n",
       "      <td>My School</td>\n",
       "      <td>School</td>\n",
       "      <td>POINT (2 3)</td>\n",
       "    </tr>\n",
       "    <tr>\n",
       "      <th>2</th>\n",
       "      <td>The park</td>\n",
       "      <td>Park</td>\n",
       "      <td>POINT (3 4)</td>\n",
       "    </tr>\n",
       "  </tbody>\n",
       "</table>\n",
       "</div>"
      ],
      "text/plain": [
       "        name    type     geometry\n",
       "0   My House   House  POINT (1 2)\n",
       "1  My School  School  POINT (2 3)\n",
       "2   The park    Park  POINT (3 4)"
      ]
     },
     "execution_count": 2,
     "metadata": {},
     "output_type": "execute_result"
    }
   ],
   "source": [
    "import pandas as pd\n",
    "\n",
    "# GeoDataframe\n",
    "gdf = GeoDataFrame({\n",
    "    \"name\": [\"My House\", \"My School\", \"The park\"],\n",
    "    \"type\": [\"House\",\"School\", \"Park\"],\n",
    "    \"geometry\": places\n",
    "})\n",
    "\n",
    "gdf"
   ]
  },
  {
   "cell_type": "code",
   "execution_count": null,
   "id": "4ec271f4-9db7-4474-8bba-276f95550b16",
   "metadata": {},
   "outputs": [],
   "source": []
  }
 ],
 "metadata": {
  "kernelspec": {
   "display_name": "Python 3 (ipykernel)",
   "language": "python",
   "name": "python3"
  },
  "language_info": {
   "codemirror_mode": {
    "name": "ipython",
    "version": 3
   },
   "file_extension": ".py",
   "mimetype": "text/x-python",
   "name": "python",
   "nbconvert_exporter": "python",
   "pygments_lexer": "ipython3",
   "version": "3.11.10"
  }
 },
 "nbformat": 4,
 "nbformat_minor": 5
}
