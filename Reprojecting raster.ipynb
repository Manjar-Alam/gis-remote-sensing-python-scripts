{
 "cells": [
  {
   "cell_type": "code",
   "execution_count": 1,
   "id": "3cc47388-a6a3-45f6-b99e-fd72ef8e493b",
   "metadata": {},
   "outputs": [],
   "source": [
    "#Reprojecting a raster\n",
    "from rasterio.warp import calculate_default_transform, reproject, Resampling\n",
    "import os\n",
    "import numpy as np\n",
    "import rasterio as rio\n",
    "import pyproj\n",
    "\n",
    "# Define target CRS\n",
    "crs = \"EPSG:4326\"  # WGS 1984\n",
    "dst_crs = pyproj.CRS(crs)\n",
    "\n",
    "# Open the original raster image\n",
    "with rio.open(r\"G:\\Manjar\\github\\rasterData\\LC08_L2SP_146040_20241018_20241028_02_T1_SR_B1.TIF\") as src:\n",
    "    # Calculate the transform, width, and height of the destination raster\n",
    "    transform, width, height = calculate_default_transform(\n",
    "        src.crs, dst_crs, src.width, src.height, *src.bounds\n",
    "    )\n",
    "    \n",
    "    # Copy the metadata and update for the new CRS and transform\n",
    "    metadata = src.meta.copy()\n",
    "    metadata.update({\n",
    "        'crs': dst_crs,\n",
    "        'transform': transform,\n",
    "        'width': width,\n",
    "        'height': height\n",
    "    })\n",
    "\n",
    "    # Define the path for the reprojected output raster\n",
    "    output_reprojected = os.path.join(r\"G:\\Manjar\\github\\rasterData\\reprojected.TIF\")\n",
    "    \n",
    "    # Reproject the raster and write to the new file\n",
    "    with rio.open(output_reprojected, 'w', **metadata) as dst:\n",
    "        for i in range(1, src.count + 1):  # Iterate through all bands\n",
    "            # Read the source band\n",
    "            band = src.read(i)\n",
    "            \n",
    "            # Reproject the band and write it to the destination\n",
    "            reproject(\n",
    "                source=band,\n",
    "                destination=rio.band(dst, i),\n",
    "                src_transform=src.transform,\n",
    "                src_crs=src.crs,\n",
    "                dst_transform=transform,\n",
    "                dst_crs=dst_crs,\n",
    "                resampling=Resampling.nearest\n",
    "            )"
   ]
  },
  {
   "cell_type": "code",
   "execution_count": 4,
   "id": "d142b1ad-99d2-4749-8f0b-a48e3be2a76e",
   "metadata": {},
   "outputs": [
    {
     "name": "stdout",
     "output_type": "stream",
     "text": [
      "Input CRS: PROJCS[\"WGS 84 / UTM zone 43N\",GEOGCS[\"WGS 84\",DATUM[\"World Geodetic System 1984\",SPHEROID[\"WGS 84\",6378137,298.257223563]],PRIMEM[\"Greenwich\",0],UNIT[\"degree\",0.0174532925199433,AUTHORITY[\"EPSG\",\"9122\"]]],PROJECTION[\"Transverse_Mercator\"],PARAMETER[\"latitude_of_origin\",0],PARAMETER[\"central_meridian\",75],PARAMETER[\"scale_factor\",0.9996],PARAMETER[\"false_easting\",500000],PARAMETER[\"false_northing\",0],UNIT[\"metre\",1,AUTHORITY[\"EPSG\",\"9001\"]],AXIS[\"Easting\",EAST],AXIS[\"Northing\",NORTH]]\n"
     ]
    }
   ],
   "source": [
    "# Check the CRS of the input raster\n",
    "with rio.open(r\"G:\\Manjar\\github\\rasterData\\LC08_L2SP_146040_20241018_20241028_02_T1_SR_B1.TIF\") as src:\n",
    "    print(\"Input CRS:\", src.crs)"
   ]
  },
  {
   "cell_type": "code",
   "execution_count": 5,
   "id": "b97d6f91-1c47-4ffb-a654-f2a32a9de05d",
   "metadata": {},
   "outputs": [
    {
     "name": "stdout",
     "output_type": "stream",
     "text": [
      "Reprojected CRS: GEOGCS[\"WGS 84\",DATUM[\"World Geodetic System 1984\",SPHEROID[\"WGS 84\",6378137,298.257223563]],PRIMEM[\"Greenwich\",0],UNIT[\"degree\",0.0174532925199433,AUTHORITY[\"EPSG\",\"9122\"]],AXIS[\"Latitude\",NORTH],AXIS[\"Longitude\",EAST]]\n"
     ]
    }
   ],
   "source": [
    "# Check the CRS of the reprojected raster\n",
    "with rio.open(output_reprojected) as dst:\n",
    "    print(\"Reprojected CRS:\", dst.crs)"
   ]
  },
  {
   "cell_type": "code",
   "execution_count": null,
   "id": "96b0eb62-7437-46ca-9b48-c26232a6877a",
   "metadata": {},
   "outputs": [],
   "source": []
  }
 ],
 "metadata": {
  "kernelspec": {
   "display_name": "Python 3 (ipykernel)",
   "language": "python",
   "name": "python3"
  },
  "language_info": {
   "codemirror_mode": {
    "name": "ipython",
    "version": 3
   },
   "file_extension": ".py",
   "mimetype": "text/x-python",
   "name": "python",
   "nbconvert_exporter": "python",
   "pygments_lexer": "ipython3",
   "version": "3.11.10"
  }
 },
 "nbformat": 4,
 "nbformat_minor": 5
}
