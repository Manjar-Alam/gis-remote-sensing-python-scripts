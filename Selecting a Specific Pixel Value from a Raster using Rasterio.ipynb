{
 "cells": [
  {
   "cell_type": "code",
   "execution_count": null,
   "id": "27878d13-7df6-466d-847f-606012934c95",
   "metadata": {},
   "outputs": [],
   "source": [
    " # Select a pixel value at row 593, column 481\n",
    "import rasterio as rio\n",
    "\n",
    "# Open the raster file\n",
    "with rio.open(r\"G:\\Manjar\\github\\rasterData\\LC08_L2SP_146040_20241018_20241028_02_T1_SR_B1.TIF\") as src:\n",
    "    # Read the first band of the raster\n",
    "    band = src.read(1)\n",
    "    transform = src.transform\n",
    "\n",
    "\n",
    "\n",
    "    # Select a pixel value at row 593, column 481\n",
    "    raster_value = band[593, 481]\n",
    "    print(\"Raster value at row 593, column 481:\", raster_value)\n"
   ]
  }
 ],
 "metadata": {
  "kernelspec": {
   "display_name": "Python 3 (ipykernel)",
   "language": "python",
   "name": "python3"
  },
  "language_info": {
   "codemirror_mode": {
    "name": "ipython",
    "version": 3
   },
   "file_extension": ".py",
   "mimetype": "text/x-python",
   "name": "python",
   "nbconvert_exporter": "python",
   "pygments_lexer": "ipython3",
   "version": "3.11.10"
  }
 },
 "nbformat": 4,
 "nbformat_minor": 5
}
