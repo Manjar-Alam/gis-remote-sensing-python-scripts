{
 "cells": [
  {
   "cell_type": "code",
   "execution_count": 1,
   "id": "0d866601-159e-498e-b01d-35e172898c04",
   "metadata": {},
   "outputs": [],
   "source": [
    "#pip install shapely"
   ]
  },
  {
   "cell_type": "code",
   "execution_count": 3,
   "id": "5d5e8ac6-f2e7-4e10-8a11-d8ff9df1f7ce",
   "metadata": {},
   "outputs": [
    {
     "name": "stdout",
     "output_type": "stream",
     "text": [
      "<class 'shapely.geometry.point.Point'>\n"
     ]
    }
   ],
   "source": [
    "#point\n",
    "from shapely.geometry import Point\n",
    "point= Point(1.0, 2.0)\n",
    "print(type(point))"
   ]
  },
  {
   "cell_type": "code",
   "execution_count": 4,
   "id": "717a4bb4-76cd-4f14-84c3-8203d9d7a0ff",
   "metadata": {},
   "outputs": [
    {
     "name": "stdout",
     "output_type": "stream",
     "text": [
      "LINESTRING (0 0, 1 1, 2 2)\n"
     ]
    }
   ],
   "source": [
    "#line\n",
    "from shapely.geometry import LineString\n",
    "points =[\n",
    "    (0,0),\n",
    "    (1,1),\n",
    "    (2,2)\n",
    "]\n",
    "line = LineString(points)\n",
    "print(line)"
   ]
  },
  {
   "cell_type": "code",
   "execution_count": 5,
   "id": "34c319d9-d0c6-4a9d-83bf-8f9a4f71ee02",
   "metadata": {},
   "outputs": [
    {
     "name": "stdout",
     "output_type": "stream",
     "text": [
      "POLYGON ((0 0, 1 1, 2 2, 3 3, 0 0))\n"
     ]
    }
   ],
   "source": [
    "#polygon\n",
    "from shapely.geometry import Polygon\n",
    "points =[\n",
    "    (0,0),\n",
    "    (1,1),\n",
    "    (2,2),\n",
    "    (3,3)\n",
    "]\n",
    "polygon = Polygon(points)\n",
    "print(polygon)"
   ]
  },
  {
   "cell_type": "code",
   "execution_count": 6,
   "id": "7e1aa4a1-f670-4001-8999-0e576c2a5791",
   "metadata": {},
   "outputs": [],
   "source": [
    "#pip install fiona"
   ]
  },
  {
   "cell_type": "code",
   "execution_count": 7,
   "id": "abcfa16f-ff7e-4687-ae7d-03f6f4ab059a",
   "metadata": {},
   "outputs": [],
   "source": [
    "#Writing a shapefile with fiona\n",
    "import fiona\n",
    "from shapely.geometry import Point, mapping"
   ]
  },
  {
   "cell_type": "code",
   "execution_count": 8,
   "id": "fc5ec0fc-0697-4cc8-9ce6-df3194e451a5",
   "metadata": {},
   "outputs": [],
   "source": [
    "#writing files\n",
    "schema = {\n",
    "    'geometry': 'Point',\n",
    "    'properties': {\n",
    "        'id': 'int',\n",
    "        'description': 'str'\n",
    "    }\n",
    "}\n",
    "\n",
    "path = r'G:\\Manjar\\github\\point.shp'\n",
    "with fiona.open(path, 'w', driver='ESRI Shapefile', schema=schema) as shp:\n",
    "    shp.write({\n",
    "        'geometry': mapping(Point(1,1)),\n",
    "        'properties': {\n",
    "            'id': 1,\n",
    "            'description': 'Attribute 1'\n",
    "        }\n",
    "    })"
   ]
  },
  {
   "cell_type": "code",
   "execution_count": 9,
   "id": "a7476f99-16c2-4d84-8d25-1a7618fd9dc8",
   "metadata": {},
   "outputs": [],
   "source": [
    "schema = {\n",
    "    'geometry': 'Point',\n",
    "    'properties': {\n",
    "        'id': 'int',\n",
    "        'description': 'str'\n",
    "    }\n",
    "}\n",
    "\n",
    "path = r'G:\\Manjar\\github\\point1.shp'\n",
    "with fiona.open(path, 'w', driver='ESRI Shapefile', schema=schema) as shp:\n",
    "    shp.write({\n",
    "        'geometry': mapping(Point(1,1)),\n",
    "        'properties': {\n",
    "            'id': 1,\n",
    "            'description': 'Attribute 1'\n",
    "        }\n",
    "    })\n",
    "    shp.write({\n",
    "        'geometry': mapping(Point(2,2)),\n",
    "        'properties': {\n",
    "            'id': 2,\n",
    "            'description': 'Attribute 2'\n",
    "        }\n",
    "    })"
   ]
  },
  {
   "cell_type": "code",
   "execution_count": 10,
   "id": "db236cc4-7c92-4638-842d-c0b8a96013f0",
   "metadata": {},
   "outputs": [],
   "source": [
    "from shapely.geometry import Point, mapping\n",
    "import fiona\n",
    "\n",
    "schema = {\n",
    "    'geometry': 'Point',\n",
    "    'properties': {\n",
    "        'id': 'int',\n",
    "        'description': 'str'\n",
    "    }\n",
    "}\n",
    "\n",
    "points = [(1, 1, 1), (2, 2, 2), (3, 3, 3), (4, 4, 4)]\n",
    "\n",
    "path = r'G:\\Manjar\\github\\point3.shp'\n",
    "with fiona.open(path, 'w', driver='ESRI Shapefile', schema=schema) as shp:\n",
    "    for x, y, point_id in points:\n",
    "        shp.write({\n",
    "            'geometry': mapping(Point(x, y)),\n",
    "            'properties': {\n",
    "                'id': point_id,\n",
    "                'description': f'Some description for {point_id}'\n",
    "            }\n",
    "        })\n"
   ]
  },
  {
   "cell_type": "code",
   "execution_count": 11,
   "id": "08533637-c4b7-40a3-ab73-1fd429913e05",
   "metadata": {},
   "outputs": [],
   "source": [
    "import fiona\n",
    "from shapely.geometry import LineString, mapping\n",
    "\n",
    "# Define schema\n",
    "schema = {\n",
    "    'geometry': 'LineString',\n",
    "    'properties': {'id': 'int'}\n",
    "}\n",
    "\n",
    "# Create points\n",
    "points = [(1, 1), (2, 2), (3, 3), (4, 4)]\n",
    "\n",
    "# Create LineString from points\n",
    "line = LineString(points)\n",
    "\n",
    "# Define output path\n",
    "path = r'G:\\Manjar\\github\\line.shp'\n",
    "\n",
    "# Write Shapefile\n",
    "with fiona.open(path, 'w', driver='ESRI Shapefile', schema=schema) as src:\n",
    "    line = LineString(points)\n",
    "    src.write({\n",
    "        'geometry': mapping(line),\n",
    "        'properties': {'id':1}\n",
    "    })"
   ]
  },
  {
   "cell_type": "code",
   "execution_count": 12,
   "id": "9459f766-6a5a-4571-ac54-07fcb2f7e1a2",
   "metadata": {},
   "outputs": [
    {
     "name": "stdout",
     "output_type": "stream",
     "text": [
      "fiona.Feature(geometry=fiona.Geometry(coordinates=(1.0, 1.0), type='Point'), id='0', properties=fiona.Properties(id=1, descriptio='Some description for 1'))\n",
      "fiona.Feature(geometry=fiona.Geometry(coordinates=(2.0, 2.0), type='Point'), id='1', properties=fiona.Properties(id=2, descriptio='Some description for 2'))\n",
      "fiona.Feature(geometry=fiona.Geometry(coordinates=(3.0, 3.0), type='Point'), id='2', properties=fiona.Properties(id=3, descriptio='Some description for 3'))\n",
      "fiona.Feature(geometry=fiona.Geometry(coordinates=(4.0, 4.0), type='Point'), id='3', properties=fiona.Properties(id=4, descriptio='Some description for 4'))\n"
     ]
    }
   ],
   "source": [
    "#reading shapefile\n",
    "import fiona\n",
    "path = r'G:\\Manjar\\github\\point3.shp'\n",
    "\n",
    "with fiona.open(path) as shapefile:\n",
    "    for feature in shapefile:\n",
    "        print(feature) "
   ]
  },
  {
   "cell_type": "code",
   "execution_count": 13,
   "id": "257bf3a6-2e59-44db-b237-5d0bae89ea1b",
   "metadata": {},
   "outputs": [
    {
     "name": "stdout",
     "output_type": "stream",
     "text": [
      "1.4142135623730951\n"
     ]
    }
   ],
   "source": [
    "#Common Geometry Operations\n",
    "#Distance (Euclidean Distane)\n",
    "from shapely.geometry import Point\n",
    "\n",
    "# Define the points\n",
    "point1 = Point(1.0, 1.0)\n",
    "point2 = Point(2.0, 2.0)\n",
    "\n",
    "# Calculate the distance between the points\n",
    "distance = point1.distance(point2)\n",
    "print(distance)"
   ]
  },
  {
   "cell_type": "code",
   "execution_count": 14,
   "id": "ebd05c52-35e3-43c3-b0ea-2883f8243d6b",
   "metadata": {},
   "outputs": [
    {
     "name": "stdout",
     "output_type": "stream",
     "text": [
      "4.242640687119286\n"
     ]
    }
   ],
   "source": [
    "#Length\n",
    "from shapely.geometry import Point, LineString\n",
    "\n",
    "# Define points\n",
    "points = [(1, 1, 1), (2, 2, 2), (3, 3,3), (4, 4,4)]\n",
    "\n",
    "# Create a LineString from the points\n",
    "line = LineString(points)\n",
    "\n",
    "# Calculate the length of the line\n",
    "length = line.length\n",
    "print(length)\n"
   ]
  },
  {
   "cell_type": "code",
   "execution_count": 15,
   "id": "69820d14-8de2-4e63-9e78-dec461cb1b82",
   "metadata": {},
   "outputs": [
    {
     "name": "stdout",
     "output_type": "stream",
     "text": [
      "POLYGON ((2 2, 2 1, 1 1, 1 2, 2 2))\n"
     ]
    }
   ],
   "source": [
    "#intersection\n",
    "from shapely.geometry import Polygon\n",
    "\n",
    "# Define two polygons\n",
    "polygon1 = Polygon([(0, 0), (2, 0), (2, 2), (1, 2)])\n",
    "polygon2 = Polygon([(1, 1), (3, 1), (3, 3), (1, 3)])\n",
    "\n",
    "# Calculate the intersection of the two polygons\n",
    "intersection = polygon1.intersection(polygon2)\n",
    "print(intersection)"
   ]
  },
  {
   "cell_type": "code",
   "execution_count": null,
   "id": "5e3b4c57-f9c6-4e40-b3d0-01a1f189c14a",
   "metadata": {},
   "outputs": [],
   "source": []
  }
 ],
 "metadata": {
  "kernelspec": {
   "display_name": "Python 3 (ipykernel)",
   "language": "python",
   "name": "python3"
  },
  "language_info": {
   "codemirror_mode": {
    "name": "ipython",
    "version": 3
   },
   "file_extension": ".py",
   "mimetype": "text/x-python",
   "name": "python",
   "nbconvert_exporter": "python",
   "pygments_lexer": "ipython3",
   "version": "3.11.10"
  }
 },
 "nbformat": 4,
 "nbformat_minor": 5
}
