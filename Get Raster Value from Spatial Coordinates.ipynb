{
 "cells": [
  {
   "cell_type": "code",
   "execution_count": 1,
   "id": "88f82190-fc44-4c8a-acd7-47ea03dca36c",
   "metadata": {},
   "outputs": [
    {
     "name": "stdout",
     "output_type": "stream",
     "text": [
      "Transformed coordinates: 708208.6908992203 3174686.194933924\n",
      "Row, Column indices: 4567 1297\n",
      "Raster value at the specified coordinates: 9070\n"
     ]
    }
   ],
   "source": [
    "#Get Raster Value from Spatial Coordinates\n",
    "import rasterio as rio\n",
    "from rasterio.transform import rowcol\n",
    "from pyproj import Transformer\n",
    "\n",
    "# Open the raster file\n",
    "with rio.open(r\"G:\\Manjar\\github\\rasterData\\LC08_L2SP_146040_20241018_20241028_02_T1_SR_B1.TIF\") as src:\n",
    "    transform_matrix = src.transform\n",
    "    band = src.read(1)\n",
    "    raster_crs = src.crs\n",
    "\n",
    "    # Define the spatial coordinates (longitude, latitude) in WGS84\n",
    "    spatial_coord = (77.130924, 28.682655)  # Example: Delhi in WGS84 (longitude, latitude)\n",
    "\n",
    "    # Create a transformer object for WGS84 to UTM zone 43N\n",
    "    transformer = Transformer.from_crs(\"EPSG:4326\", \"EPSG:32643\", always_xy=True)\n",
    "\n",
    "    # Transform the WGS84 coordinates to the raster's CRS (UTM zone 43N)\n",
    "    x, y = transformer.transform(spatial_coord[0], spatial_coord[1])\n",
    "    print(\"Transformed coordinates:\", x, y)\n",
    "\n",
    "    # Convert transformed spatial coordinates to row, column indices\n",
    "    row, col = rowcol(transform_matrix, x, y)\n",
    "    print(\"Row, Column indices:\", row, col)\n",
    "\n",
    "    # Ensure indices are within bounds before accessing raster value\n",
    "    if 0 <= row < band.shape[0] and 0 <= col < band.shape[1]:\n",
    "        raster_value = band[row, col]\n",
    "        print(\"Raster value at the specified coordinates:\", raster_value)\n",
    "    else:\n",
    "        print(\"Error: Indices are out of bounds!\")\n"
   ]
  },
  {
   "cell_type": "code",
   "execution_count": null,
   "id": "46e84dc2-40ca-4528-b44c-42317188eefc",
   "metadata": {},
   "outputs": [],
   "source": []
  }
 ],
 "metadata": {
  "kernelspec": {
   "display_name": "Python 3 (ipykernel)",
   "language": "python",
   "name": "python3"
  },
  "language_info": {
   "codemirror_mode": {
    "name": "ipython",
    "version": 3
   },
   "file_extension": ".py",
   "mimetype": "text/x-python",
   "name": "python",
   "nbconvert_exporter": "python",
   "pygments_lexer": "ipython3",
   "version": "3.11.10"
  }
 },
 "nbformat": 4,
 "nbformat_minor": 5
}
