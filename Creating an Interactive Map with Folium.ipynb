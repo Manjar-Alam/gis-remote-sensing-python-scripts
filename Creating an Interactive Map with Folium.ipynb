# Import necessary libraries
import folium
import json

# Create the base map centered around Delhi with an initial zoom level of 5
map = folium.Map(location=(28.7041, 77.1025), zoom_start=5)

# Add base tile layers for visualization options
folium.TileLayer(tiles="OpenStreetMap", name='OSM').add_to(map)  # OpenStreetMap tiles
folium.TileLayer(tiles="Cartodb Positron", name='Carto DB').add_to(map)  # CartoDB tiles

# Create and add a points layer group
point_group = folium.FeatureGroup(name="Points", show=False).add_to(map)  # Hidden by default
# Adding markers (points) with popup labels
folium.Marker(location=(28.7041, 77.1025), popup="Point 1").add_to(point_group)
folium.Marker(location=(27.7041, 76.1025), popup="Point 2").add_to(point_group)
folium.Marker(location=(26.7041, 75.1025), popup="Point 3").add_to(point_group)

# Create and add a line layer group
line_group = folium.FeatureGroup(name="Lines", show=False).add_to(map)  # Hidden by default
# Adding a blue polyline connecting three locations
folium.PolyLine(
    locations=[(28.7041, 77.1025), (27.7041, 76.1025), (26.7041, 75.1025)], 
    color="blue",  # Line color
    weight=2.5,    # Line thickness
    opacity=1      # Full opacity
).add_to(line_group)

# Create and add a polygon layer group
polygon_group = folium.FeatureGroup(name="Polygons", show=False).add_to(map)  # Hidden by default
# Adding a green polygon with specific coordinates
folium.Polygon(
    locations=[(28, 77), (28, 78), (29, 78), (29, 77)],  # Polygon vertices
    color="green",       # Border color
    fill=True,           # Enable fill
    fill_opacity=0.4     # Semi-transparent fill
).add_to(polygon_group)

# Load GeoJSON data for administrative boundaries
with open(r'G:\Manjar\github\india.geojson', 'r') as file:
    geo_data = json.load(file)

# Define a style function for the GeoJSON layer
def style_map(feature):
    return {
        "fillColor": "transparent",  # Transparent fill color
        "color": "black",            # Outline color
        "weight": 1,                 # Border thickness
        "fillOpacity": 0.7           # Opacity of fill
    }

# Add GeoJSON layer with a tooltip displaying the "Name" field
states_group = folium.FeatureGroup(name="States", show=True).add_to(map)
folium.GeoJson(
    data=geo_data,  # GeoJSON data for the layer
    style_function=style_map,  # Apply the defined style
    tooltip=folium.GeoJsonTooltip(fields=["Name"])  # Display the "Name" property as a tooltip
).add_to(states_group)

# Add a layer control panel to toggle different layers on and off
folium.LayerControl().add_to(map)

# Save the map to an HTML file
map.save(r'G:\Manjar\github\my_map.html')

# Display the map (in Jupyter Notebook or interactive environments)
map
