{
 "cells": [
  {
   "cell_type": "code",
   "execution_count": 1,
   "id": "d8206a9d-7dde-4c38-888b-ca4191ed2802",
   "metadata": {},
   "outputs": [],
   "source": [
    "#pip install geopandas"
   ]
  },
  {
   "cell_type": "code",
   "execution_count": 2,
   "id": "46e056d5-7aea-49a3-8d92-4530511e443b",
   "metadata": {},
   "outputs": [],
   "source": [
    "import geopandas as gpd\n",
    "gdf = gpd.read_file(r'G:\\Manjar\\github\\boundary\\STATE_BOUNDARY.shp')\n",
    "gdf.to_file(r'G:\\Manjar\\github\\boundary\\STATE_BOUNDARY.geojson', driver=\"GeoJSON\")"
   ]
  }
 ],
 "metadata": {
  "kernelspec": {
   "display_name": "Python 3 (ipykernel)",
   "language": "python",
   "name": "python3"
  },
  "language_info": {
   "codemirror_mode": {
    "name": "ipython",
    "version": 3
   },
   "file_extension": ".py",
   "mimetype": "text/x-python",
   "name": "python",
   "nbconvert_exporter": "python",
   "pygments_lexer": "ipython3",
   "version": "3.11.10"
  }
 },
 "nbformat": 4,
 "nbformat_minor": 5
}
