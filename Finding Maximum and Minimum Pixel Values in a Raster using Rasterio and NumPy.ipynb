{
 "cells": [
  {
   "cell_type": "code",
   "execution_count": 1,
   "id": "14256a34-3635-4291-97a4-e5635b5b3b5b",
   "metadata": {},
   "outputs": [
    {
     "name": "stdout",
     "output_type": "stream",
     "text": [
      "Maximum value is: 36598\n",
      "Maximum value index: (np.int64(1349), np.int64(7404))\n",
      "Maximum value spatial coord: (np.float64(709755.0), np.float64(3089595.0))\n",
      "Minimum value is: 0\n",
      "Minimum value index: (np.int64(0), np.int64(0))\n",
      "Minimum value spatial coord: (np.float64(669285.0), np.float64(3311715.0))\n"
     ]
    }
   ],
   "source": [
    "# Import necessary libraries\n",
    "import numpy as np\n",
    "import rasterio as rio\n",
    "\n",
    "# Open the raster file and read the first band\n",
    "with rio.open(r\"G:\\Manjar\\github\\rasterData\\LC08_L2SP_146040_20241018_20241028_02_T1_SR_B1.TIF\") as src:\n",
    "    band = src.read(1)  # Read the first band of the raster\n",
    "    transform = src.transform  # Get the raster's affine transform\n",
    "\n",
    "# Finding the maximum value and its spatial location\n",
    "maximum_pixel_value = np.max(band)\n",
    "maximum_pixel_index = np.unravel_index(np.argmax(band), band.shape)\n",
    "\n",
    "print(\"Maximum value is:\", maximum_pixel_value)\n",
    "print(\"Maximum value index:\", maximum_pixel_index)\n",
    "\n",
    "max_point_spatial = transform * (maximum_pixel_index[0], maximum_pixel_index[1])\n",
    "print(\"Maximum value spatial coord:\", max_point_spatial)\n",
    "\n",
    "# Finding the minimum value and its spatial location\n",
    "minimum_pixel_value = np.min(band)\n",
    "minimum_pixel_index = np.unravel_index(np.argmin(band), band.shape)\n",
    "\n",
    "print(\"Minimum value is:\", minimum_pixel_value)\n",
    "print(\"Minimum value index:\", minimum_pixel_index)\n",
    "\n",
    "min_point_spatial = transform * (minimum_pixel_index[0], minimum_pixel_index[1])\n",
    "print(\"Minimum value spatial coord:\", min_point_spatial)\n"
   ]
  },
  {
   "cell_type": "code",
   "execution_count": null,
   "id": "b082c3a6-f169-4cf1-b21d-eda56872ccf8",
   "metadata": {},
   "outputs": [],
   "source": []
  }
 ],
 "metadata": {
  "kernelspec": {
   "display_name": "Python 3 (ipykernel)",
   "language": "python",
   "name": "python3"
  },
  "language_info": {
   "codemirror_mode": {
    "name": "ipython",
    "version": 3
   },
   "file_extension": ".py",
   "mimetype": "text/x-python",
   "name": "python",
   "nbconvert_exporter": "python",
   "pygments_lexer": "ipython3",
   "version": "3.11.10"
  }
 },
 "nbformat": 4,
 "nbformat_minor": 5
}
