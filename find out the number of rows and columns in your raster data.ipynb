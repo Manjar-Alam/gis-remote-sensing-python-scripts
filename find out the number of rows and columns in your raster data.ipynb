{
 "cells": [
  {
   "cell_type": "code",
   "execution_count": 1,
   "id": "24fb953d-75cf-488b-84b4-14da77ff22a1",
   "metadata": {},
   "outputs": [
    {
     "name": "stdout",
     "output_type": "stream",
     "text": [
      "Number of rows: 7691\n",
      "Number of columns: 7531\n"
     ]
    }
   ],
   "source": [
    "#To find out the number of rows and columns in your raster data\n",
    "import rasterio as rio\n",
    "\n",
    "# Open the raster file\n",
    "with rio.open(r\"G:\\Manjar\\github\\rasterData\\LC08_L2SP_146040_20241018_20241028_02_T1_SR_B1.TIF\") as src:\n",
    "    rows = src.height  # Number of rows (height of the raster)\n",
    "    cols = src.width   # Number of columns (width of the raster)\n",
    "\n",
    "    print(\"Number of rows:\", rows)\n",
    "    print(\"Number of columns:\", cols)"
   ]
  },
  {
   "cell_type": "code",
   "execution_count": null,
   "id": "923e6511-9e3b-40a0-835d-8c4db489ce7c",
   "metadata": {},
   "outputs": [],
   "source": []
  }
 ],
 "metadata": {
  "kernelspec": {
   "display_name": "Python 3 (ipykernel)",
   "language": "python",
   "name": "python3"
  },
  "language_info": {
   "codemirror_mode": {
    "name": "ipython",
    "version": 3
   },
   "file_extension": ".py",
   "mimetype": "text/x-python",
   "name": "python",
   "nbconvert_exporter": "python",
   "pygments_lexer": "ipython3",
   "version": "3.11.10"
  }
 },
 "nbformat": 4,
 "nbformat_minor": 5
}
