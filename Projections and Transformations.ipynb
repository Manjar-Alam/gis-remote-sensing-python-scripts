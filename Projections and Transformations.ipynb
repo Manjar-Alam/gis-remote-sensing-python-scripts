{
 "cells": [
  {
   "cell_type": "code",
   "execution_count": 1,
   "id": "d32dcf80-552f-4fb4-812f-e78f3a7b369b",
   "metadata": {},
   "outputs": [],
   "source": [
    "#Defining a CRS\n",
    "from pyproj import CRS"
   ]
  },
  {
   "cell_type": "code",
   "execution_count": 2,
   "id": "0bf7eea5-7fd3-4ce5-9ee3-d2276c5a4610",
   "metadata": {},
   "outputs": [
    {
     "data": {
      "text/plain": [
       "<Geographic 2D CRS: EPSG:4326>\n",
       "Name: WGS 84\n",
       "Axis Info [ellipsoidal]:\n",
       "- Lat[north]: Geodetic latitude (degree)\n",
       "- Lon[east]: Geodetic longitude (degree)\n",
       "Area of Use:\n",
       "- name: World.\n",
       "- bounds: (-180.0, -90.0, 180.0, 90.0)\n",
       "Datum: World Geodetic System 1984 ensemble\n",
       "- Ellipsoid: WGS 84\n",
       "- Prime Meridian: Greenwich"
      ]
     },
     "execution_count": 2,
     "metadata": {},
     "output_type": "execute_result"
    }
   ],
   "source": [
    "#website for EPSSG (https://epsg.io/)\n",
    "wgs84 = CRS.from_epsg(4326)  #WGS 84 world\n",
    "#EPSG:32643 WGS 84 / UTM zone 43N Delhi\n",
    "utm43n = CRS.from_string(\"EPSG:32643\")   \n",
    "utm43n.geodetic_crs"
   ]
  },
  {
   "cell_type": "code",
   "execution_count": 3,
   "id": "7e0e04fc-d9e1-4ad6-8f87-299302b382a4",
   "metadata": {},
   "outputs": [
    {
     "name": "stdout",
     "output_type": "stream",
     "text": [
      "PROJCRS[\"WGS 84 / UTM zone 43N\",\n",
      "    BASEGEOGCRS[\"WGS 84\",\n",
      "        ENSEMBLE[\"World Geodetic System 1984 ensemble\",\n",
      "            MEMBER[\"World Geodetic System 1984 (Transit)\"],\n",
      "            MEMBER[\"World Geodetic System 1984 (G730)\"],\n",
      "            MEMBER[\"World Geodetic System 1984 (G873)\"],\n",
      "            MEMBER[\"World Geodetic System 1984 (G1150)\"],\n",
      "            MEMBER[\"World Geodetic System 1984 (G1674)\"],\n",
      "            MEMBER[\"World Geodetic System 1984 (G1762)\"],\n",
      "            MEMBER[\"World Geodetic System 1984 (G2139)\"],\n",
      "            ELLIPSOID[\"WGS 84\",6378137,298.257223563,\n",
      "                LENGTHUNIT[\"metre\",1]],\n",
      "            ENSEMBLEACCURACY[2.0]],\n",
      "        PRIMEM[\"Greenwich\",0,\n",
      "            ANGLEUNIT[\"degree\",0.0174532925199433]],\n",
      "        ID[\"EPSG\",4326]],\n",
      "    CONVERSION[\"UTM zone 43N\",\n",
      "        METHOD[\"Transverse Mercator\",\n",
      "            ID[\"EPSG\",9807]],\n",
      "        PARAMETER[\"Latitude of natural origin\",0,\n",
      "            ANGLEUNIT[\"degree\",0.0174532925199433],\n",
      "            ID[\"EPSG\",8801]],\n",
      "        PARAMETER[\"Longitude of natural origin\",75,\n",
      "            ANGLEUNIT[\"degree\",0.0174532925199433],\n",
      "            ID[\"EPSG\",8802]],\n",
      "        PARAMETER[\"Scale factor at natural origin\",0.9996,\n",
      "            SCALEUNIT[\"unity\",1],\n",
      "            ID[\"EPSG\",8805]],\n",
      "        PARAMETER[\"False easting\",500000,\n",
      "            LENGTHUNIT[\"metre\",1],\n",
      "            ID[\"EPSG\",8806]],\n",
      "        PARAMETER[\"False northing\",0,\n",
      "            LENGTHUNIT[\"metre\",1],\n",
      "            ID[\"EPSG\",8807]]],\n",
      "    CS[Cartesian,2],\n",
      "        AXIS[\"(E)\",east,\n",
      "            ORDER[1],\n",
      "            LENGTHUNIT[\"metre\",1]],\n",
      "        AXIS[\"(N)\",north,\n",
      "            ORDER[2],\n",
      "            LENGTHUNIT[\"metre\",1]],\n",
      "    USAGE[\n",
      "        SCOPE[\"Navigation and medium accuracy spatial referencing.\"],\n",
      "        AREA[\"Between 72°E and 78°E, northern hemisphere between equator and 84°N, onshore and offshore. China. India. Kazakhstan. Kyrgyzstan. Maldives. Pakistan. Russian Federation. Tajikistan.\"],\n",
      "        BBOX[0,72,84,78]],\n",
      "    ID[\"EPSG\",32643]]\n"
     ]
    }
   ],
   "source": [
    "#Viewing CRS details\n",
    "print(utm43n.to_wkt(pretty=True))"
   ]
  },
  {
   "cell_type": "code",
   "execution_count": 5,
   "id": "69318ff1-c0e4-43aa-8c74-3c4706df5e7e",
   "metadata": {},
   "outputs": [
    {
     "name": "stdout",
     "output_type": "stream",
     "text": [
      "28.722185169109064 77.19756909331306\n"
     ]
    }
   ],
   "source": [
    "#Performing a Coordinate Transformation\n",
    "from pyproj import Transformer\n",
    "\n",
    "# Define the transformer\n",
    "# WGS84 UTM Zone 43N - 32643\n",
    "points_from = (714641.427, 3179185.497 )  #long,lat in meters\n",
    "transfomer = Transformer.from_crs(32643, 4326)  #convert utm 43 to WGS84 geographic CRS\n",
    "\n",
    "# Transform\n",
    "x, y = transfomer.transform(points_from[0], points_from[1])\n",
    "print(x, y)"
   ]
  },
  {
   "cell_type": "code",
   "execution_count": null,
   "id": "af43670f-db04-4861-bc3b-7e7a80908748",
   "metadata": {},
   "outputs": [],
   "source": []
  }
 ],
 "metadata": {
  "kernelspec": {
   "display_name": "Python 3 (ipykernel)",
   "language": "python",
   "name": "python3"
  },
  "language_info": {
   "codemirror_mode": {
    "name": "ipython",
    "version": 3
   },
   "file_extension": ".py",
   "mimetype": "text/x-python",
   "name": "python",
   "nbconvert_exporter": "python",
   "pygments_lexer": "ipython3",
   "version": "3.11.10"
  }
 },
 "nbformat": 4,
 "nbformat_minor": 5
}
