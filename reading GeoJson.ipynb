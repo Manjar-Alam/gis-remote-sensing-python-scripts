{
 "cells": [
  {
   "cell_type": "code",
   "execution_count": null,
   "id": "a5f67dfb-93eb-4c24-a060-3a60a6beec1c",
   "metadata": {},
   "outputs": [],
   "source": [
    "#reading GeoJson\n",
    "import json\n",
    "\n",
    "# Path to your GeoJSON file\n",
    "file_path = r'G:\\Manjar\\github\\india.geojson'\n",
    "\n",
    "# Read the GeoJSON file\n",
    "with open(file_path, 'r') as file:\n",
    "    geo_data = json.load(file)\n",
    "\n"
   ]
  },
  {
   "cell_type": "code",
   "execution_count": null,
   "id": "11c392fc-8f1c-48a3-982e-110527f06f29",
   "metadata": {},
   "outputs": [],
   "source": [
    "#Plotting GeoJSON\n",
    "#its works only for wgs coordinate system\n",
    "import folium\n",
    "import json\n",
    "\n",
    "# Read the GeoJSON file\n",
    "with open(r'G:\\Manjar\\github\\india.geojson', 'r') as file:\n",
    "    geo_data = json.load(file)\n",
    "\n",
    "# Create the map centered around Delhi\n",
    "map = folium.Map([28.7041, 77.1025], zoom_start=5)\n",
    "\n",
    "# Define the style function for the GeoJSON layer\n",
    "def style_map(feature):\n",
    "    return {\n",
    "        \"fillColor\": \"transparent\",\n",
    "        \"color\": \"black\",\n",
    "        \"weight\": 1,\n",
    "        \"fillOpacity\": 0.7\n",
    "    }\n",
    "\n",
    "# Add the GeoJSON layer to the map with correct tooltip and style function\n",
    "folium.GeoJson(\n",
    "    data=geo_data,\n",
    "    style_function=style_map,\n",
    "    tooltip=folium.GeoJsonTooltip(fields=[\"Name\"])\n",
    ").add_to(map)\n",
    "\n",
    "# Display the map\n",
    "map"
   ]
  },
  {
   "cell_type": "code",
   "execution_count": null,
   "id": "b40313df-03ad-4663-aae7-1b34ff986f6f",
   "metadata": {},
   "outputs": [],
   "source": [
    "#reading attributes\n",
    "import json\n",
    "\n",
    "# Read the GeoJSON file\n",
    "with open(r'G:\\Manjar\\github\\india.geojson', 'r') as file:\n",
    "    geo_data = json.load(file)\n",
    "\n",
    "# Loop through the features and print the properties\n",
    "for feature in geo_data.get('features', []):\n",
    "    print(feature.get('properties', {}))  # Print the properties of each feature"
   ]
  },
  {
   "cell_type": "code",
   "execution_count": null,
   "id": "5a258b6b-a7c2-4e9f-b371-5dc8e6cb6382",
   "metadata": {},
   "outputs": [],
   "source": [
    "# Plotting GeoJSON for Delhi only\n",
    "import folium\n",
    "import json\n",
    "\n",
    "# Read the GeoJSON file\n",
    "with open(r'G:\\Manjar\\github\\india.geojson', 'r') as file:\n",
    "    geo_data = json.load(file)\n",
    "\n",
    "# Filter the GeoJSON data to include only the feature for Delhi\n",
    "delhi_geo_data = {\n",
    "    \"type\": \"FeatureCollection\",\n",
    "    \"features\": [feature for feature in geo_data[\"features\"] if feature[\"properties\"].get(\"Name\") == \"Delhi\"]\n",
    "}\n",
    "\n",
    "# Create the map centered around Delhi\n",
    "map = folium.Map([28.7041, 77.1025], zoom_start=10)\n",
    "\n",
    "# Define the style function for the GeoJSON layer\n",
    "def style_map(feature):\n",
    "    return {\n",
    "        \"fillColor\": \"transparent\",\n",
    "        \"color\": \"black\",\n",
    "        \"weight\": 1,\n",
    "        \"fillOpacity\": 0.7\n",
    "    }\n",
    "\n",
    "# Add the filtered GeoJSON layer to the map with correct tooltip and style function\n",
    "folium.GeoJson(\n",
    "    data=delhi_geo_data,\n",
    "    style_function=style_map,\n",
    "    tooltip=folium.GeoJsonTooltip(fields=[\"Name\"], aliases=[\"Delhi\"])\n",
    ").add_to(map)\n",
    "\n",
    "# Display the map\n",
    "map"
   ]
  },
  {
   "cell_type": "code",
   "execution_count": null,
   "id": "dac14efe-6fdd-471d-aab0-f1d61eb33d68",
   "metadata": {},
   "outputs": [],
   "source": []
  }
 ],
 "metadata": {
  "kernelspec": {
   "display_name": "Python 3 (ipykernel)",
   "language": "python",
   "name": "python3"
  },
  "language_info": {
   "codemirror_mode": {
    "name": "ipython",
    "version": 3
   },
   "file_extension": ".py",
   "mimetype": "text/x-python",
   "name": "python",
   "nbconvert_exporter": "python",
   "pygments_lexer": "ipython3",
   "version": "3.11.10"
  }
 },
 "nbformat": 4,
 "nbformat_minor": 5
}
