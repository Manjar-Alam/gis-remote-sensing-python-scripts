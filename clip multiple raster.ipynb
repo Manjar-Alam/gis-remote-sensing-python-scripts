{
 "cells": [
  {
   "cell_type": "code",
   "execution_count": 1,
   "id": "587c2f31-1f17-431b-98c7-0643bd574b4d",
   "metadata": {},
   "outputs": [],
   "source": [
    "#clip_multiple-raster\n",
    "import geopandas as gpd\n",
    "import rasterio as rio\n",
    "from rasterio.mask import mask as rmask\n",
    "import os\n",
    "\n",
    "# Path to the shapefile (Region of Interest)\n",
    "roi = r\"G:\\Manjar\\github\\boundary\\delhi.shp\"\n",
    "\n",
    "# List of raster paths\n",
    "rasters_path = [\n",
    "    r\"G:\\Manjar\\github\\rasterData\\LC08_L2SP_146040_20241018_20241028_02_T1_SR_B1.TIF\",\n",
    "    r\"G:\\Manjar\\github\\rasterData\\LC08_L2SP_146040_20241018_20241028_02_T1_SR_B2.TIF\",\n",
    "    r\"G:\\Manjar\\github\\rasterData\\LC08_L2SP_146040_20241018_20241028_02_T1_SR_B3.TIF\",\n",
    "    r\"G:\\Manjar\\github\\rasterData\\LC08_L2SP_146040_20241018_20241028_02_T1_SR_B4.TIF\",\n",
    "    r\"G:\\Manjar\\github\\rasterData\\LC08_L2SP_146040_20241018_20241028_02_T1_SR_B5.TIF\",\n",
    "    r\"G:\\Manjar\\github\\rasterData\\LC08_L2SP_146040_20241018_20241028_02_T1_SR_B6.TIF\",\n",
    "    r\"G:\\Manjar\\github\\rasterData\\LC08_L2SP_146040_20241018_20241028_02_T1_SR_B7.TIF\"\n",
    "]\n",
    "\n",
    "# Path to save the clipped rasters\n",
    "output_dir = r\"G:\\Manjar\\github\\rasterData\\clipBands\"\n",
    "\n",
    "# Read the shapefile\n",
    "gdf = gpd.read_file(roi)\n",
    "\n",
    "# Loop over each raster and clip it\n",
    "for raster_path in rasters_path:\n",
    "    # Construct the output path for each clipped raster\n",
    "    clipped_path = os.path.join(output_dir, os.path.basename(raster_path).replace('.TIF', '_clipped.tif'))\n",
    "\n",
    "    with rio.open(raster_path) as src:\n",
    "        # Get the shapes from the shapefile\n",
    "        shapes = gdf.geometry\n",
    "        \n",
    "        # Perform the clipping operation\n",
    "        cropped_image, cropped_image_transform = rmask(src, shapes, crop=True)\n",
    "\n",
    "        # Update the metadata of the clipped image\n",
    "        out_meta = src.meta.copy()\n",
    "        out_meta.update({\n",
    "            \"height\": cropped_image.shape[1],\n",
    "            \"width\": cropped_image.shape[2],\n",
    "            \"transform\": cropped_image_transform\n",
    "        })\n",
    "\n",
    "        # Save the clipped raster to the output directory\n",
    "        with rio.open(clipped_path, \"w\", **out_meta) as dst:\n",
    "            dst.write(cropped_image)\n"
   ]
  },
  {
   "cell_type": "code",
   "execution_count": null,
   "id": "03998dbd-8b6a-497a-8fd6-398322749646",
   "metadata": {},
   "outputs": [],
   "source": []
  }
 ],
 "metadata": {
  "kernelspec": {
   "display_name": "Python 3 (ipykernel)",
   "language": "python",
   "name": "python3"
  },
  "language_info": {
   "codemirror_mode": {
    "name": "ipython",
    "version": 3
   },
   "file_extension": ".py",
   "mimetype": "text/x-python",
   "name": "python",
   "nbconvert_exporter": "python",
   "pygments_lexer": "ipython3",
   "version": "3.11.10"
  }
 },
 "nbformat": 4,
 "nbformat_minor": 5
}
